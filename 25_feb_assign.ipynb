{
 "cells": [
  {
   "cell_type": "code",
   "execution_count": 2,
   "id": "ce72225c-f76f-4856-9427-9b302924c7fe",
   "metadata": {},
   "outputs": [
    {
     "data": {
      "text/html": [
       "<div>\n",
       "<style scoped>\n",
       "    .dataframe tbody tr th:only-of-type {\n",
       "        vertical-align: middle;\n",
       "    }\n",
       "\n",
       "    .dataframe tbody tr th {\n",
       "        vertical-align: top;\n",
       "    }\n",
       "\n",
       "    .dataframe thead th {\n",
       "        text-align: right;\n",
       "    }\n",
       "</style>\n",
       "<table border=\"1\" class=\"dataframe\">\n",
       "  <thead>\n",
       "    <tr style=\"text-align: right;\">\n",
       "      <th></th>\n",
       "      <th>course_name</th>\n",
       "      <th>duration</th>\n",
       "    </tr>\n",
       "  </thead>\n",
       "  <tbody>\n",
       "    <tr>\n",
       "      <th>0</th>\n",
       "      <td>Data Science</td>\n",
       "      <td>2</td>\n",
       "    </tr>\n",
       "    <tr>\n",
       "      <th>1</th>\n",
       "      <td>Machine Learning</td>\n",
       "      <td>3</td>\n",
       "    </tr>\n",
       "    <tr>\n",
       "      <th>2</th>\n",
       "      <td>Big Data</td>\n",
       "      <td>6</td>\n",
       "    </tr>\n",
       "    <tr>\n",
       "      <th>3</th>\n",
       "      <td>Data Engineer</td>\n",
       "      <td>4</td>\n",
       "    </tr>\n",
       "  </tbody>\n",
       "</table>\n",
       "</div>"
      ],
      "text/plain": [
       "        course_name  duration\n",
       "0      Data Science         2\n",
       "1  Machine Learning         3\n",
       "2          Big Data         6\n",
       "3     Data Engineer         4"
      ]
     },
     "execution_count": 2,
     "metadata": {},
     "output_type": "execute_result"
    }
   ],
   "source": [
    "import pandas as pd\n",
    "course_name = ['Data Science', 'Machine Learning', 'Big Data', 'Data Engineer']\n",
    "duration = [2,3,6,4]\n",
    "df = pd.DataFrame(data = {'course_name' : course_name, 'duration' : duration})\n",
    "df"
   ]
  },
  {
   "cell_type": "code",
   "execution_count": 3,
   "id": "4156182a-7912-4e6e-ab0f-b8e91dee10af",
   "metadata": {},
   "outputs": [
    {
     "name": "stdout",
     "output_type": "stream",
     "text": [
      "['Machine Learning', 3]\n"
     ]
    }
   ],
   "source": [
    "\"\"\"Q1. Write a code to print the data present in the second row of the dataframe, df.\"\"\"\n",
    "\n",
    "print(list(df.iloc[1]))"
   ]
  },
  {
   "cell_type": "code",
   "execution_count": 4,
   "id": "5ac45031-6938-4a68-9bec-ce6a2371a7d0",
   "metadata": {},
   "outputs": [
    {
     "data": {
      "text/plain": [
       "\"Q2. What is the difference between the functions loc and iloc in pandas.DataFrame?\\n    Ans: In layman's terms, loc in Pandas DataFrame is used to select data by labels (row/column names), while iloc is used to select data by integer index positions. \\n         loc is more explicit and requires column/row names, while iloc uses integer positions.\\n\""
      ]
     },
     "execution_count": 4,
     "metadata": {},
     "output_type": "execute_result"
    }
   ],
   "source": [
    "\"\"\"Q2. What is the difference between the functions loc and iloc in pandas.DataFrame?\n",
    "    Ans: In layman's terms, loc in Pandas DataFrame is used to select data by labels (row/column names), while iloc is used to select data by integer index positions. \n",
    "         loc is more explicit and requires column/row names, while iloc uses integer positions.\n",
    "\"\"\""
   ]
  },
  {
   "cell_type": "code",
   "execution_count": 5,
   "id": "2f5f07b1-b8f8-4ce6-a05d-29810ee6cb3a",
   "metadata": {},
   "outputs": [
    {
     "name": "stdout",
     "output_type": "stream",
     "text": [
      "['Big Data', 6]\n",
      "['Machine Learning', 3]\n"
     ]
    }
   ],
   "source": [
    "\"\"\"Q3. Reindex the given dataframe using a variable, reindex = [3,0,1,2] and store it in the variable, new_df then find the output for both new_df.loc[2] and new_df.iloc[2].\n",
    "    Did you observe any difference in both the outputs? If so then explain it.\n",
    "\"\"\"\n",
    "\n",
    "reindex = [3,0,1,2]\n",
    "new_df = df.reindex(reindex)\n",
    "print(list(new_df.loc[2]))\n",
    "print(list(new_df.iloc[2]))\n",
    "\n",
    "# loc[] gives the index named 2\n",
    "# iloc[] give the 2nd item from top"
   ]
  },
  {
   "cell_type": "code",
   "execution_count": 6,
   "id": "46bf20dc-e8c7-4592-ac7d-5f77a66f171b",
   "metadata": {},
   "outputs": [
    {
     "data": {
      "text/html": [
       "<div>\n",
       "<style scoped>\n",
       "    .dataframe tbody tr th:only-of-type {\n",
       "        vertical-align: middle;\n",
       "    }\n",
       "\n",
       "    .dataframe tbody tr th {\n",
       "        vertical-align: top;\n",
       "    }\n",
       "\n",
       "    .dataframe thead th {\n",
       "        text-align: right;\n",
       "    }\n",
       "</style>\n",
       "<table border=\"1\" class=\"dataframe\">\n",
       "  <thead>\n",
       "    <tr style=\"text-align: right;\">\n",
       "      <th></th>\n",
       "      <th>column_1</th>\n",
       "      <th>column_2</th>\n",
       "      <th>column_3</th>\n",
       "      <th>column_4</th>\n",
       "      <th>column_5</th>\n",
       "      <th>column_6</th>\n",
       "    </tr>\n",
       "  </thead>\n",
       "  <tbody>\n",
       "    <tr>\n",
       "      <th>1</th>\n",
       "      <td>0.860277</td>\n",
       "      <td>0.668346</td>\n",
       "      <td>0.844716</td>\n",
       "      <td>0.188272</td>\n",
       "      <td>0.735047</td>\n",
       "      <td>0.829160</td>\n",
       "    </tr>\n",
       "    <tr>\n",
       "      <th>2</th>\n",
       "      <td>0.228627</td>\n",
       "      <td>0.032287</td>\n",
       "      <td>0.537402</td>\n",
       "      <td>0.476952</td>\n",
       "      <td>0.540807</td>\n",
       "      <td>0.441701</td>\n",
       "    </tr>\n",
       "    <tr>\n",
       "      <th>3</th>\n",
       "      <td>0.491260</td>\n",
       "      <td>0.598644</td>\n",
       "      <td>0.422037</td>\n",
       "      <td>0.728183</td>\n",
       "      <td>0.080470</td>\n",
       "      <td>0.938459</td>\n",
       "    </tr>\n",
       "    <tr>\n",
       "      <th>4</th>\n",
       "      <td>0.173877</td>\n",
       "      <td>0.547303</td>\n",
       "      <td>0.485117</td>\n",
       "      <td>0.884004</td>\n",
       "      <td>0.425028</td>\n",
       "      <td>0.382930</td>\n",
       "    </tr>\n",
       "    <tr>\n",
       "      <th>5</th>\n",
       "      <td>0.634600</td>\n",
       "      <td>0.009643</td>\n",
       "      <td>0.243806</td>\n",
       "      <td>0.892715</td>\n",
       "      <td>0.752484</td>\n",
       "      <td>0.068403</td>\n",
       "    </tr>\n",
       "    <tr>\n",
       "      <th>6</th>\n",
       "      <td>0.255863</td>\n",
       "      <td>0.350810</td>\n",
       "      <td>0.784272</td>\n",
       "      <td>0.192014</td>\n",
       "      <td>0.678100</td>\n",
       "      <td>0.389581</td>\n",
       "    </tr>\n",
       "  </tbody>\n",
       "</table>\n",
       "</div>"
      ],
      "text/plain": [
       "   column_1  column_2  column_3  column_4  column_5  column_6\n",
       "1  0.860277  0.668346  0.844716  0.188272  0.735047  0.829160\n",
       "2  0.228627  0.032287  0.537402  0.476952  0.540807  0.441701\n",
       "3  0.491260  0.598644  0.422037  0.728183  0.080470  0.938459\n",
       "4  0.173877  0.547303  0.485117  0.884004  0.425028  0.382930\n",
       "5  0.634600  0.009643  0.243806  0.892715  0.752484  0.068403\n",
       "6  0.255863  0.350810  0.784272  0.192014  0.678100  0.389581"
      ]
     },
     "execution_count": 6,
     "metadata": {},
     "output_type": "execute_result"
    }
   ],
   "source": [
    "import pandas as pd\n",
    "import numpy as np\n",
    "columns = ['column_1', 'column_2', 'column_3', 'column_4', 'column_5', 'column_6']\n",
    "indices = [1,2,3,4,5,6]\n",
    "#Creating a dataframe:\n",
    "df1 = pd.DataFrame(np.random.rand(6,6), columns = columns, index = indices)\n",
    "df1"
   ]
  },
  {
   "cell_type": "code",
   "execution_count": 21,
   "id": "00156244-e725-4cc7-8c3c-18999e838595",
   "metadata": {},
   "outputs": [
    {
     "name": "stdout",
     "output_type": "stream",
     "text": [
      "column_1    1.119177\n",
      "column_2    1.060174\n",
      "column_3    1.192424\n",
      "column_4    1.209510\n",
      "column_5    1.176008\n",
      "column_6    1.171116\n",
      "dtype: float64\n",
      "\n",
      "2.0082357642759407\n"
     ]
    }
   ],
   "source": [
    "\"\"\"Q4. Write a code to find the following statistical measurements for the above dataframe df1:\n",
    "    (i) mean of each and every column present in the dataframe.\n",
    "    (ii) standard deviation of column, 'column_2'\"\"\"\n",
    "# (i) mean of each and every column present in the dataframe.\n",
    "print(df1.describe().mean())\n",
    "\n",
    "print()\n",
    "# (ii) standard deviation of column, 'column_2'\n",
    "print(df1.describe()['column_2'].std())"
   ]
  },
  {
   "cell_type": "code",
   "execution_count": 30,
   "id": "fe601384-b103-4e1d-8b62-1d45f32596b6",
   "metadata": {},
   "outputs": [
    {
     "data": {
      "text/plain": [
       "20576.0"
      ]
     },
     "execution_count": 30,
     "metadata": {},
     "output_type": "execute_result"
    }
   ],
   "source": [
    "\"\"\"Q5. Replace the data present in the second row of column, ‘column_2’ by a string variable then find the mean of column, column_2.\n",
    "    If you are getting errors in executing it then explain why.\n",
    "    [Hint: To replace the data use df1.loc[] and equate this to string data of your choice.]\"\"\"\n",
    "\n",
    "df1.loc[:,['column_2']] = ['1','2','3','4','5','6']\n",
    "df1['column_2'].mean()\n"
   ]
  },
  {
   "cell_type": "code",
   "execution_count": 9,
   "id": "face85d8-7469-4352-b32f-204d7f3e4e32",
   "metadata": {},
   "outputs": [
    {
     "data": {
      "text/plain": [
       "'Q6. What do you understand about the windows function in pandas and list the types of windows\\nfunctions?'"
      ]
     },
     "execution_count": 9,
     "metadata": {},
     "output_type": "execute_result"
    }
   ],
   "source": [
    "\"\"\"Q6. What do you understand about the windows function in pandas and list the types of windows\n",
    "functions?\"\"\"\n",
    "\n",
    "\"\"\"Ans: Pandas window functions analyze and compare data points over a given time period or moving window. \n",
    "        They allow calculations to be performed on a sliding or rolling window, with several types available such as rolling, expanding, EWM, and Groupby. \n",
    "        These functions help gain insights from time series or other data analysis.\"\"\""
   ]
  },
  {
   "cell_type": "code",
   "execution_count": 37,
   "id": "e3424f38-8f33-496a-92ba-4a6b7a9d2fd6",
   "metadata": {},
   "outputs": [
    {
     "name": "stdout",
     "output_type": "stream",
     "text": [
      "3\n",
      "2023\n"
     ]
    },
    {
     "name": "stderr",
     "output_type": "stream",
     "text": [
      "/tmp/ipykernel_119/1978449648.py:4: FutureWarning: The pandas.datetime class is deprecated and will be removed from pandas in a future version. Import from datetime module instead.\n",
      "  print(pd.datetime.now().month)\n",
      "/tmp/ipykernel_119/1978449648.py:5: FutureWarning: The pandas.datetime class is deprecated and will be removed from pandas in a future version. Import from datetime module instead.\n",
      "  print(pd.datetime.now().year)\n"
     ]
    }
   ],
   "source": [
    "\"\"\"Q7. Write a code to print only the current month and year at the time of answering this question.\n",
    "[Hint: Use pandas.datetime function]\"\"\"\n",
    "\n",
    "print(pd.datetime.now().month)\n",
    "print(pd.datetime.now().year)"
   ]
  },
  {
   "cell_type": "code",
   "execution_count": 44,
   "id": "a3e8ac93-0057-4b9a-867e-38f5bfec74b9",
   "metadata": {},
   "outputs": [
    {
     "name": "stdout",
     "output_type": "stream",
     "text": [
      "Diffenrece in days is 7\n",
      "Diffenrece in hours is 168\n",
      "Diffenrece in minutes is 604800\n"
     ]
    }
   ],
   "source": [
    "\"\"\"Q8. Write a Python program that takes in two dates as input (in the format YYYY-MM-DD) and calculates the difference between them in days, hours, and minutes \n",
    "       using Pandas time delta. The program should prompt the user to enter the dates and display the result.\"\"\"\n",
    "\n",
    "# d1 = pd.to_datetime(input())\n",
    "# d2 = pd.to_datetime(input())\n",
    "d1 = pd.to_datetime('2023-03-17')\n",
    "d2 = pd.to_datetime('2023-03-10')\n",
    "days_diff = d1.day - d2.day\n",
    "print(f\"Diffenrece in days is {days_diff}\")\n",
    "print(f\"Diffenrece in hours is {days_diff * 24}\")\n",
    "print(f\"Diffenrece in minutes is {days_diff * 24 * 60 * 60}\")"
   ]
  },
  {
   "cell_type": "code",
   "execution_count": 12,
   "id": "adf3f6cc-6635-4eef-a577-38dda5ae6a68",
   "metadata": {},
   "outputs": [
    {
     "data": {
      "text/plain": [
       "'Q9. Write a Python program that reads a CSV file containing categorical data and converts a specified\\ncolumn to a categorical data type. The program should prompt the user to enter the file path, column\\nname, and category order, and then display the sorted data.'"
      ]
     },
     "execution_count": 12,
     "metadata": {},
     "output_type": "execute_result"
    }
   ],
   "source": [
    "\"\"\"Q9. Write a Python program that reads a CSV file containing categorical data and converts a specified column to a categorical data type. \n",
    "       The program should prompt the user to enter the file path, column name, and category order, and then display the sorted data.\"\"\"\n",
    "file_path = input(\"File path: \")\n",
    "df = pd.read_csv(file_path)\n",
    "column_name = input(\"Column name: \")\n",
    "cat_order = input(\"Category order: \")\n",
    "\n",
    "cat_order = cat_order.split(\",\")\n",
    "df[column_name] = pd.Categorical(df[column_name], categories=cat_order)\n",
    "df = df.sort_values(column_name)\n",
    "\n",
    "print(df)"
   ]
  },
  {
   "cell_type": "code",
   "execution_count": 13,
   "id": "92110745-aec6-4d25-86f0-5c58840e652e",
   "metadata": {},
   "outputs": [
    {
     "data": {
      "text/plain": [
       "'Q10. Write a Python program that reads a CSV file containing sales data for different products and\\nvisualizes the data using a stacked bar chart to show the sales of each product category over time. The\\nprogram should prompt the user to enter the file path and display the chart.'"
      ]
     },
     "execution_count": 13,
     "metadata": {},
     "output_type": "execute_result"
    }
   ],
   "source": [
    "\"\"\"Q10. Write a Python program that reads a CSV file containing sales data for different products and visualizes the data using a stacked bar chart to show the sales \n",
    "        of each product category over time. The program should prompt the user to enter the file path and display the chart.\"\"\"\n",
    "\n",
    "file_path = input(\"File path: \")\n",
    "df = pd.read_csv(file_path)\n",
    "sales_data = df.groupby(['Product Category', 'Date'])['Sales'].sum().unstack()\n",
    "sales_data.plot(kind='bar', stacked=True)\n",
    "plt.title('Sales by Product Category')\n",
    "plt.xlabel('Date')\n",
    "plt.ylabel('Sales')"
   ]
  },
  {
   "cell_type": "code",
   "execution_count": 27,
   "id": "0e1bb6f2-071b-4ca6-bdf0-306d91ae7f1b",
   "metadata": {},
   "outputs": [
    {
     "name": "stdin",
     "output_type": "stream",
     "text": [
      "file path:  students.csv\n"
     ]
    },
    {
     "name": "stdout",
     "output_type": "stream",
     "text": [
      "+-----------+--------+\n",
      "| Statistic | Value  |\n",
      "+-----------+--------+\n",
      "| Mean      | 86.2  |\n",
      "| Median    | 85.000000 |\n",
      "| Mode      | 85 |\n",
      "+-----------+--------+\n"
     ]
    }
   ],
   "source": [
    "\"\"\"Q11. You are given a CSV file containing student data that includes the student ID and their test score. Write\n",
    "a Python program that reads the CSV file, calculates the mean, median, and mode of the test scores, and\n",
    "displays the results in a table.\n",
    "The program should do the followingM\n",
    "I Prompt the user to enter the file path of the CSV file containing the student dataR\n",
    "I Read the CSV file into a Pandas DataFrameR\n",
    "I Calculate the mean, median, and mode of the test scores using Pandas toolsR\n",
    "I Display the mean, median, and mode in a table.\n",
    "Assume the CSV file contains the following columnsM\n",
    "I Student ID: The ID of the studentR\n",
    "I Test Score: The score of the student's test.\n",
    "Example usage of the program:\n",
    "Enter the file path of the CSV file containing the student data: student_data.csv\n",
    "+-----------+--------+\n",
    "| Statistic | Value |\n",
    "+-----------+--------+\n",
    "| Mean | 79.6 |\n",
    "| Median | 82 |\n",
    "| Mode | 85, 90 |\n",
    "+-----------+--------+\n",
    "Assume that the CSV file student_data.csv contains the following data:\n",
    "Student ID,Test Score\n",
    "1,85\n",
    "2,90\n",
    "3,80\n",
    "4,75\n",
    "5,85\n",
    "6,82\n",
    "7,78\n",
    "8,85\n",
    "9,90\n",
    "10,85\n",
    "The program should calculate the mean, median, and mode of the test scores and display the results\n",
    "in a table.\"\"\"\n",
    "\n",
    "import pandas as pd\n",
    "import numpy as np\n",
    "import scipy as s\n",
    "file_path = input(\"file path: \")\n",
    "\n",
    "data = pd.read_csv(file_path)\n",
    "\n",
    "mean_score = np.mean(data['Test Score'])\n",
    "median_score = np.median(data['Test Score'])\n",
    "mode_score = s.stats.mode(data['Test Score'], keepdims=True)\n",
    "\n",
    "print(\"+-----------+--------+\")\n",
    "print(\"| Statistic | Value  |\")\n",
    "print(\"+-----------+--------+\")\n",
    "print(\"| Mean      | {:.1f}  |\".format(mean_score))\n",
    "print(\"| Median    | {:<5f} |\".format(median_score))\n",
    "print(\"| Mode      | \", end=\"\")\n",
    "for score in mode_score[0]:\n",
    "    print(f\"{score}\",end=\"\")\n",
    "print(\" |\")\n",
    "print(\"+-----------+--------+\")"
   ]
  },
  {
   "cell_type": "code",
   "execution_count": null,
   "id": "09f1bb2e-bb35-4975-8643-9a7cab272b97",
   "metadata": {},
   "outputs": [],
   "source": []
  }
 ],
 "metadata": {
  "kernelspec": {
   "display_name": "Python 3 (ipykernel)",
   "language": "python",
   "name": "python3"
  },
  "language_info": {
   "codemirror_mode": {
    "name": "ipython",
    "version": 3
   },
   "file_extension": ".py",
   "mimetype": "text/x-python",
   "name": "python",
   "nbconvert_exporter": "python",
   "pygments_lexer": "ipython3",
   "version": "3.10.8"
  }
 },
 "nbformat": 4,
 "nbformat_minor": 5
}
